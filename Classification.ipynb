{
 "cells": [
  {
   "cell_type": "code",
   "execution_count": 300,
   "metadata": {
    "collapsed": true
   },
   "outputs": [],
   "source": [
    "import pandas as pd\n",
    "\n",
    "import glob"
   ]
  },
  {
   "cell_type": "code",
   "execution_count": 301,
   "outputs": [],
   "source": [
    "# get the names of all of the data files\n",
    "document_file_names = glob.glob('./post_titles/*')"
   ],
   "metadata": {
    "collapsed": false,
    "pycharm": {
     "name": "#%%\n"
    }
   }
  },
  {
   "cell_type": "code",
   "execution_count": 302,
   "outputs": [],
   "source": [
    "# build a list of docs from the data files, where each doc is associated with a tag\n",
    "tagged_docs = []\n",
    "for document_file_name in document_file_names:\n",
    "    tag = document_file_name.split('/')[-1] # the tag is just the file's name\n",
    "    with open(document_file_name, 'r') as docs_file:\n",
    "        docs = docs_file.readlines()\n",
    "        for doc in docs:\n",
    "            tagged_docs.append([doc, tag])"
   ],
   "metadata": {
    "collapsed": false,
    "pycharm": {
     "name": "#%%\n"
    }
   }
  },
  {
   "cell_type": "code",
   "execution_count": 303,
   "outputs": [],
   "source": [
    "# put our docs and tags in a pandas dataframe and shuffle\n",
    "data_frame = pd.DataFrame(tagged_docs, columns=['title', 'subreddit'])\n",
    "data_frame = data_frame.sample(frac=1).reset_index(drop=True)"
   ],
   "metadata": {
    "collapsed": false,
    "pycharm": {
     "name": "#%%\n"
    }
   }
  },
  {
   "cell_type": "code",
   "execution_count": 304,
   "outputs": [],
   "source": [
    "# Build features for each document\n",
    "from sklearn.feature_extraction.text import CountVectorizer\n",
    "#from sklearn.feature_extraction.text import TfidfVectorizer\n",
    "#vectorize = TfidfVectorizer(stop_words='english')\n",
    "#vocab_features = vectorize.fit_transform(data_frame.title)\n",
    "vectorize = CountVectorizer(stop_words='english')\n",
    "vocab_features = vectorize.fit_transform(data_frame.title)"
   ],
   "metadata": {
    "collapsed": false,
    "pycharm": {
     "name": "#%%\n"
    }
   }
  },
  {
   "cell_type": "code",
   "execution_count": 305,
   "outputs": [],
   "source": [
    "from sklearn.model_selection import train_test_split\n",
    "title_train, title_test, label_train, label_test = train_test_split(vocab_features, data_frame.subreddit, test_size=.2,\n",
    "                                                                    random_state=1)"
   ],
   "metadata": {
    "collapsed": false,
    "pycharm": {
     "name": "#%%\n"
    }
   }
  },
  {
   "cell_type": "code",
   "execution_count": 306,
   "outputs": [
    {
     "data": {
      "text/plain": "MultinomialNB()"
     },
     "execution_count": 306,
     "metadata": {},
     "output_type": "execute_result"
    }
   ],
   "source": [
    "from sklearn.naive_bayes import MultinomialNB\n",
    "\n",
    "classy = MultinomialNB()\n",
    "classy.fit(title_train, label_train)\n"
   ],
   "metadata": {
    "collapsed": false,
    "pycharm": {
     "name": "#%%\n"
    }
   }
  },
  {
   "cell_type": "code",
   "execution_count": 325,
   "outputs": [
    {
     "name": "stdout",
     "output_type": "stream",
     "text": [
      "['mma']\n",
      "                 precision    recall  f1-score   support\n",
      "\n",
      "      economics       0.85      0.92      0.89       171\n",
      "           food       0.88      1.00      0.94       198\n",
      "          funny       0.63      0.29      0.39       147\n",
      "    linguistics       0.81      0.90      0.85       188\n",
      "           math       0.89      0.85      0.87       200\n",
      "            mma       0.90      0.95      0.92       188\n",
      "            nba       0.83      0.92      0.88       209\n",
      "            nyc       0.73      0.81      0.77       197\n",
      "oddlysatisfying       0.76      0.67      0.71       213\n",
      "       politics       0.81      0.77      0.79       131\n",
      "\n",
      "       accuracy                           0.82      1842\n",
      "      macro avg       0.81      0.81      0.80      1842\n",
      "   weighted avg       0.81      0.82      0.81      1842\n",
      "\n"
     ]
    }
   ],
   "source": [
    "from sklearn.metrics import classification_report\n",
    "predictions = classy.predict(title_test)\n",
    "print(classy.predict(vectorize.transform(['addiction'])))\n",
    "print(classification_report(label_test, predictions))\n"
   ],
   "metadata": {
    "collapsed": false,
    "pycharm": {
     "name": "#%%\n"
    }
   }
  }
 ],
 "metadata": {
  "kernelspec": {
   "display_name": "Python 3",
   "language": "python",
   "name": "python3"
  },
  "language_info": {
   "codemirror_mode": {
    "name": "ipython",
    "version": 2
   },
   "file_extension": ".py",
   "mimetype": "text/x-python",
   "name": "python",
   "nbconvert_exporter": "python",
   "pygments_lexer": "ipython2",
   "version": "2.7.6"
  }
 },
 "nbformat": 4,
 "nbformat_minor": 0
}